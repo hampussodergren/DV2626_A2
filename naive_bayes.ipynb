{
 "cells": [
  {
   "cell_type": "code",
   "execution_count": 1,
   "metadata": {},
   "outputs": [],
   "source": [
    "from ucimlrepo import fetch_ucirepo \n",
    "import pandas as pd\n",
    "\n",
    "# fetch dataset \n",
    "spambase = fetch_ucirepo(id=94) \n",
    "  \n",
    "# data (as pandas dataframes)\n",
    "X = spambase.data.features \n",
    "y = spambase.data.targets \n",
    "\n",
    "data = pd.concat([X, y], axis = 1)"
   ]
  },
  {
   "cell_type": "code",
   "execution_count": 2,
   "metadata": {},
   "outputs": [],
   "source": [
    "\n",
    "from sklearn.model_selection import StratifiedKFold\n",
    "\n",
    "# stratified ten-fold\n",
    "skf = StratifiedKFold(n_splits=10, shuffle=True, random_state=42)"
   ]
  },
  {
   "cell_type": "code",
   "execution_count": null,
   "metadata": {},
   "outputs": [],
   "source": [
    "# naive bayes\n",
    "from sklearn.metrics import accuracy_score, f1_score\n",
    "import time\n",
    "import numpy as np\n",
    "from sklearn.naive_bayes import GaussianNB\n",
    "\n",
    "nb_model = GaussianNB()\n",
    "\n",
    "# lists to store measures\n",
    "nb_accuracy_scores = []\n",
    "nb_f1_scores = []\n",
    "nb_training_times = []\n",
    "\n",
    "# cross validation\n",
    "\n",
    "for train_idx, test_idx in skf.split(X, y):\n",
    "    # split data into train and test sets\n",
    "    X_train, X_test = X.iloc[train_idx], X.iloc[test_idx]\n",
    "    y_train, y_test = y.iloc[train_idx].squeeze(), y.iloc[test_idx].squeeze()\n",
    "\n",
    "    # training time\n",
    "    start_time = time.time()\n",
    "    nb_model.fit(X_train, y_train)\n",
    "    nb_training_times.append(time.time() - start_time)\n",
    "\n",
    "    # make predictions\n",
    "    y_pred = nb_model.predict(X_test)\n",
    "\n",
    "    # metrics\n",
    "    nb_accuracy_scores.append(accuracy_score(y_test, y_pred))\n",
    "    nb_f1_scores.append(f1_score(y_test, y_pred))\n"
   ]
  },
  {
   "cell_type": "code",
   "execution_count": 4,
   "metadata": {},
   "outputs": [
    {
     "name": "stdout",
     "output_type": "stream",
     "text": [
      "Mean F1-Score: 0.8078 +-0.0135\n",
      "Mean Training Time: 0.0019 +-0.0001 s\n",
      "Mean Accuracy: 0.8203 +- 0.0156\n"
     ]
    }
   ],
   "source": [
    "print(f\"Mean F1-Score: {np.mean(nb_f1_scores):.4f} +-{np.std(nb_f1_scores):.4f}\")\n",
    "print(f\"Mean Training Time: {np.mean(nb_training_times):.4f} +-{np.std(nb_training_times):.4f} s\")\n",
    "print(f\"Mean Accuracy: {np.mean(nb_accuracy_scores):.4f} +- {np.std(nb_accuracy_scores):.4f}\")"
   ]
  }
 ],
 "metadata": {
  "kernelspec": {
   "display_name": "MyEnv",
   "language": "python",
   "name": "python3"
  },
  "language_info": {
   "codemirror_mode": {
    "name": "ipython",
    "version": 3
   },
   "file_extension": ".py",
   "mimetype": "text/x-python",
   "name": "python",
   "nbconvert_exporter": "python",
   "pygments_lexer": "ipython3",
   "version": "3.12.6"
  }
 },
 "nbformat": 4,
 "nbformat_minor": 2
}
