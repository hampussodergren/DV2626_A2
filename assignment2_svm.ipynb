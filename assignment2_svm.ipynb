{
 "cells": [
  {
   "cell_type": "code",
   "execution_count": null,
   "metadata": {},
   "outputs": [],
   "source": [
    "import pandas as pd\n",
    "import time\n",
    "from ucimlrepo import fetch_ucirepo\n",
    "from sklearn.svm import SVC\n",
    "from sklearn.model_selection import StratifiedKFold\n",
    "from scipy.stats import friedmanchisquare\n",
    "from sklearn.metrics import accuracy_score, f1_score\n",
    "\n",
    "# Fetch the Spambase dataset\n",
    "spambase = fetch_ucirepo(id=94)\n",
    "X = spambase.data.features \n",
    "y = spambase.data.targets \n"
   ]
  },
  {
   "cell_type": "code",
   "execution_count": 5,
   "metadata": {},
   "outputs": [],
   "source": [
    "# Initialize stratified K-fold\n",
    "skf = StratifiedKFold(n_splits=10)"
   ]
  },
  {
   "cell_type": "code",
   "execution_count": 8,
   "metadata": {},
   "outputs": [
    {
     "name": "stderr",
     "output_type": "stream",
     "text": [
      "c:\\Users\\oskar\\Documents\\Machine_learning\\.venv\\lib\\site-packages\\sklearn\\utils\\validation.py:1339: DataConversionWarning: A column-vector y was passed when a 1d array was expected. Please change the shape of y to (n_samples, ), for example using ravel().\n",
      "  y = column_or_1d(y, warn=True)\n",
      "c:\\Users\\oskar\\Documents\\Machine_learning\\.venv\\lib\\site-packages\\sklearn\\utils\\validation.py:1339: DataConversionWarning: A column-vector y was passed when a 1d array was expected. Please change the shape of y to (n_samples, ), for example using ravel().\n",
      "  y = column_or_1d(y, warn=True)\n",
      "c:\\Users\\oskar\\Documents\\Machine_learning\\.venv\\lib\\site-packages\\sklearn\\utils\\validation.py:1339: DataConversionWarning: A column-vector y was passed when a 1d array was expected. Please change the shape of y to (n_samples, ), for example using ravel().\n",
      "  y = column_or_1d(y, warn=True)\n",
      "c:\\Users\\oskar\\Documents\\Machine_learning\\.venv\\lib\\site-packages\\sklearn\\utils\\validation.py:1339: DataConversionWarning: A column-vector y was passed when a 1d array was expected. Please change the shape of y to (n_samples, ), for example using ravel().\n",
      "  y = column_or_1d(y, warn=True)\n",
      "c:\\Users\\oskar\\Documents\\Machine_learning\\.venv\\lib\\site-packages\\sklearn\\utils\\validation.py:1339: DataConversionWarning: A column-vector y was passed when a 1d array was expected. Please change the shape of y to (n_samples, ), for example using ravel().\n",
      "  y = column_or_1d(y, warn=True)\n",
      "c:\\Users\\oskar\\Documents\\Machine_learning\\.venv\\lib\\site-packages\\sklearn\\utils\\validation.py:1339: DataConversionWarning: A column-vector y was passed when a 1d array was expected. Please change the shape of y to (n_samples, ), for example using ravel().\n",
      "  y = column_or_1d(y, warn=True)\n",
      "c:\\Users\\oskar\\Documents\\Machine_learning\\.venv\\lib\\site-packages\\sklearn\\utils\\validation.py:1339: DataConversionWarning: A column-vector y was passed when a 1d array was expected. Please change the shape of y to (n_samples, ), for example using ravel().\n",
      "  y = column_or_1d(y, warn=True)\n",
      "c:\\Users\\oskar\\Documents\\Machine_learning\\.venv\\lib\\site-packages\\sklearn\\utils\\validation.py:1339: DataConversionWarning: A column-vector y was passed when a 1d array was expected. Please change the shape of y to (n_samples, ), for example using ravel().\n",
      "  y = column_or_1d(y, warn=True)\n",
      "c:\\Users\\oskar\\Documents\\Machine_learning\\.venv\\lib\\site-packages\\sklearn\\utils\\validation.py:1339: DataConversionWarning: A column-vector y was passed when a 1d array was expected. Please change the shape of y to (n_samples, ), for example using ravel().\n",
      "  y = column_or_1d(y, warn=True)\n",
      "c:\\Users\\oskar\\Documents\\Machine_learning\\.venv\\lib\\site-packages\\sklearn\\utils\\validation.py:1339: DataConversionWarning: A column-vector y was passed when a 1d array was expected. Please change the shape of y to (n_samples, ), for example using ravel().\n",
      "  y = column_or_1d(y, warn=True)\n"
     ]
    },
    {
     "name": "stdout",
     "output_type": "stream",
     "text": [
      "Average Accuracy: 0.711377911911723\n",
      "Average F-Measure: 0.552391666515092\n",
      "Average Training Time: 0.5217763662338257\n",
      "[0.6616052060737527, 0.6521739130434783, 0.7260869565217392, 0.7521739130434782, 0.7108695652173913, 0.6804347826086956, 0.7565217391304347, 0.7065217391304348, 0.7543478260869565, 0.7130434782608696]\n"
     ]
    }
   ],
   "source": [
    "svm = SVC()\n",
    "accuracy_scores = []\n",
    "f1_scores = []\n",
    "training_times = []\n",
    "\n",
    "for train_index, test_index in skf.split(X, y):\n",
    "    X_train, X_test = X.iloc[train_index], X.iloc[test_index]\n",
    "    y_train, y_test = y.iloc[train_index], y.iloc[test_index]\n",
    "    \n",
    "    start_time = time.time()\n",
    "    svm.fit(X_train, y_train)\n",
    "    training_time = time.time() - start_time\n",
    "    \n",
    "    y_pred = svm.predict(X_test)\n",
    "    accuracy_scores.append(accuracy_score(y_test, y_pred))\n",
    "    f1_scores.append(f1_score(y_test, y_pred))\n",
    "    training_times.append(training_time)\n",
    "\n",
    "avg_accuracy = sum(accuracy_scores) / len(accuracy_scores)\n",
    "avg_f1 = sum(f1_scores) / len(f1_scores)\n",
    "avg_training_time = sum(training_times) / len(training_times)\n",
    "\n",
    "print(f'Average Accuracy: {avg_accuracy}')\n",
    "print(f'Average F-Measure: {avg_f1}')\n",
    "print(f'Average Training Time: {avg_training_time}')\n",
    "print(accuracy_scores)"
   ]
  },
  {
   "cell_type": "code",
   "execution_count": 9,
   "metadata": {},
   "outputs": [
    {
     "name": "stdout",
     "output_type": "stream",
     "text": [
      "  Algorithm  Training Time (s)  Accuracy (%)  F-Measure\n",
      "0       SVM           0.521776     71.137791   0.552392\n"
     ]
    }
   ],
   "source": [
    "results = {\n",
    "    'Algorithm': ['SVM'],\n",
    "    'Training Time (s)': [avg_training_time],\n",
    "    'Accuracy (%)': [avg_accuracy * 100],\n",
    "    'F-Measure': [avg_f1]\n",
    "}\n",
    "results_df = pd.DataFrame(results)\n",
    "print(results_df)"
   ]
  }
 ],
 "metadata": {
  "kernelspec": {
   "display_name": ".venv",
   "language": "python",
   "name": "python3"
  },
  "language_info": {
   "codemirror_mode": {
    "name": "ipython",
    "version": 3
   },
   "file_extension": ".py",
   "mimetype": "text/x-python",
   "name": "python",
   "nbconvert_exporter": "python",
   "pygments_lexer": "ipython3",
   "version": "3.10.11"
  }
 },
 "nbformat": 4,
 "nbformat_minor": 2
}
