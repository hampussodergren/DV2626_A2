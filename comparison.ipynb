{
 "cells": [
  {
   "cell_type": "code",
   "execution_count": 3,
   "metadata": {},
   "outputs": [],
   "source": [
    "from ucimlrepo import fetch_ucirepo \n",
    "import pandas as pd\n",
    "\n",
    "# fetch dataset \n",
    "spambase = fetch_ucirepo(id=94) \n",
    "\n",
    "# data (as pandas dataframes)\n",
    "X = spambase.data.features \n",
    "y = spambase.data.targets \n",
    "\n",
    "data = pd.concat([X, y], axis = 1)"
   ]
  },
  {
   "cell_type": "code",
   "execution_count": 4,
   "metadata": {},
   "outputs": [],
   "source": [
    "# ten fold cv\n",
    "from sklearn.model_selection import StratifiedKFold\n",
    "\n",
    "# stratified ten-fold\n",
    "skf = StratifiedKFold(n_splits=10, shuffle=True, random_state=42)"
   ]
  },
  {
   "cell_type": "code",
   "execution_count": null,
   "metadata": {},
   "outputs": [],
   "source": [
    "# random forest\n",
    "\n",
    "from sklearn.ensemble import RandomForestClassifier\n",
    "from sklearn.metrics import accuracy_score, f1_score\n",
    "import time\n",
    "import numpy as np\n",
    "\n",
    "rf_model = RandomForestClassifier(n_estimators=100, random_state=42)\n",
    "\n",
    "# lst to store metrics\n",
    "rf_accuracy_scores = []\n",
    "rf_f1_scores = []\n",
    "rf_training_times = []\n",
    "\n",
    "# cv\n",
    "for train_idx, test_idx in skf.split(X, y):\n",
    "    X_train, X_test = X.iloc[train_idx], X.iloc[test_idx]\n",
    "    y_train, y_test = y.iloc[train_idx].squeeze(), y.iloc[test_idx].squeeze() #squeeze() to ensure 1D array\n",
    "\n",
    "    # training time\n",
    "    start_time = time.time()\n",
    "    rf_model.fit(X_train, y_train)\n",
    "    rf_training_times.append(time.time() - start_time)\n",
    "\n",
    "    # make prediction on test data\n",
    "    y_pred = rf_model.predict(X_test)\n",
    "\n",
    "    # compute metrics\n",
    "    rf_accuracy_scores.append(accuracy_score(y_test, y_pred))\n",
    "    rf_f1_scores.append(f1_score(y_test, y_pred))"
   ]
  },
  {
   "cell_type": "code",
   "execution_count": null,
   "metadata": {},
   "outputs": [],
   "source": [
    "# naive bayes\n",
    "\n",
    "from sklearn.naive_bayes import GaussianNB\n",
    "\n",
    "nb_model = GaussianNB()\n",
    "\n",
    "# lists to store measures\n",
    "nb_accuracy_scores = []\n",
    "nb_f1_scores = []\n",
    "nb_training_times = []\n",
    "\n",
    "# cross validation\n",
    "\n",
    "for train_idx, test_idx in skf.split(X, y):\n",
    "    # split data into train and test sets\n",
    "    X_train, X_test = X.iloc[train_idx], X.iloc[test_idx]\n",
    "    y_train, y_test = y.iloc[train_idx].squeeze(), y.iloc[test_idx].squeeze()\n",
    "\n",
    "    # training time\n",
    "    start_time = time.time()\n",
    "    nb_model.fit(X_train, y_train)\n",
    "    nb_training_times.append(time.time() - start_time)\n",
    "\n",
    "    # make predictions\n",
    "    y_pred = nb_model.predict(X_test)\n",
    "\n",
    "    # metrics\n",
    "    nb_accuracy_scores.append(accuracy_score(y_test, y_pred))\n",
    "    nb_f1_scores.append(f1_score(y_test, y_pred))"
   ]
  },
  {
   "cell_type": "code",
   "execution_count": null,
   "metadata": {},
   "outputs": [],
   "source": [
    "# support Vector Machines\n",
    "\n",
    "svm_accuracy_scores = [0 for i in range(10)]\n"
   ]
  },
  {
   "cell_type": "code",
   "execution_count": null,
   "metadata": {},
   "outputs": [
    {
     "name": "stdout",
     "output_type": "stream",
     "text": [
      " Fold  Random Forest  Naive Bayes  Support Vector Machines\n",
      "    1         0.9523       0.8243                   0.0000\n",
      "    2         0.9565       0.8196                   0.0000\n",
      "    3         0.9609       0.8043                   0.0000\n",
      "    4         0.9674       0.8217                   0.0000\n",
      "    5         0.9457       0.8174                   0.0000\n",
      "    6         0.9587       0.7891                   0.0000\n",
      "    7         0.9565       0.8457                   0.0000\n",
      "    8         0.9565       0.8261                   0.0000\n",
      "    9         0.9435       0.8413                   0.0000\n",
      "   10         0.9522       0.8130                   0.0000\n",
      "  avg         0.9550       0.8203                   0.0000\n",
      "stdev         0.0067       0.0156                   0.0000\n"
     ]
    }
   ],
   "source": [
    "# Step 2\n",
    "# print cv as the book 12.4\n",
    "\n",
    "results_cv_df = pd.DataFrame({\n",
    "    \"Fold\": [i+1 for i in range(10)],\n",
    "    \"Random Forest\": rf_accuracy_scores,\n",
    "    \"Naive Bayes\": nb_accuracy_scores,\n",
    "    \"Support Vector Machines\": svm_accuracy_scores\n",
    "})\n",
    "\n",
    "results_cv_df = pd.concat([\n",
    "    results_cv_df,\n",
    "    pd.DataFrame({\n",
    "        \"Fold\": [\"avg\", \"stdev\"], \n",
    "        \"Random Forest\": [np.mean(rf_accuracy_scores), np.std(rf_accuracy_scores)],\n",
    "        \"Naive Bayes\": [np.mean(nb_accuracy_scores), np.std(nb_accuracy_scores)],\n",
    "        \"Support Vector Machines\": [np.mean(svm_accuracy_scores), np.std(svm_accuracy_scores)]\n",
    "    })\n",
    "], ignore_index=True)\n",
    "\n",
    "print(results_cv_df.to_string(index=False, float_format=\"%.4f\"))"
   ]
  },
  {
   "cell_type": "code",
   "execution_count": null,
   "metadata": {},
   "outputs": [],
   "source": [
    "# Step 3\n",
    "# Friedman tests\n",
    "\n"
   ]
  },
  {
   "cell_type": "code",
   "execution_count": null,
   "metadata": {},
   "outputs": [],
   "source": [
    "# Step 4\n",
    "# "
   ]
  }
 ],
 "metadata": {
  "kernelspec": {
   "display_name": "MyEnv",
   "language": "python",
   "name": "python3"
  },
  "language_info": {
   "codemirror_mode": {
    "name": "ipython",
    "version": 3
   },
   "file_extension": ".py",
   "mimetype": "text/x-python",
   "name": "python",
   "nbconvert_exporter": "python",
   "pygments_lexer": "ipython3",
   "version": "3.12.6"
  }
 },
 "nbformat": 4,
 "nbformat_minor": 2
}
