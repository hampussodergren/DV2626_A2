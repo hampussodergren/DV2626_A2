{
 "cells": [
  {
   "cell_type": "code",
   "execution_count": null,
   "metadata": {},
   "outputs": [],
   "source": [
    "from ucimlrepo import fetch_ucirepo \n",
    "import pandas as pd\n",
    "\n",
    "# fetch dataset \n",
    "spambase = fetch_ucirepo(id=94) \n",
    "  \n",
    "# data (as pandas dataframes)\n",
    "X = spambase.data.features \n",
    "y = spambase.data.targets \n",
    "\n",
    "data = pd.concat([X, y], axis = 1)"
   ]
  },
  {
   "cell_type": "code",
   "execution_count": null,
   "metadata": {},
   "outputs": [],
   "source": [
    "# Step 1\n",
    "\n",
    "from sklearn.model_selection import StratifiedKFold\n",
    "\n",
    "# stratified ten-fold\n",
    "skf = StratifiedKFold(n_splits=10, shuffle=True, random_state=42)"
   ]
  },
  {
   "cell_type": "code",
   "execution_count": null,
   "metadata": {},
   "outputs": [
    {
     "name": "stdout",
     "output_type": "stream",
     "text": [
      "Mean F1-Score: 0.9422 +-0.0086\n",
      "Mean Training Time: 0.3934 +-0.0154 s\n"
     ]
    }
   ],
   "source": [
    "from sklearn.ensemble import RandomForestClassifier\n",
    "from sklearn.metrics import accuracy_score, f1_score\n",
    "import time\n",
    "import numpy as np\n",
    "\n",
    "rf_model = RandomForestClassifier(n_estimators=100, random_state=42)\n",
    "\n",
    "# lst to store metrics\n",
    "rf_accuracy_scores = []\n",
    "rf_f1_scores = []\n",
    "rf_training_times = []\n",
    "\n",
    "# cv\n",
    "for train_idx, test_idx in skf.split(X, y):\n",
    "    X_train, X_test = X.iloc[train_idx], X.iloc[test_idx]\n",
    "    y_train, y_test = y.iloc[train_idx].squeeze(), y.iloc[test_idx].squeeze() #squeeze() to ensure 1D array\n",
    "\n",
    "    # training time\n",
    "    start_time = time.time()\n",
    "    rf_model.fit(X_train, y_train)\n",
    "    rf_training_times.append(time.time() - start_time)\n",
    "\n",
    "    # make prediction on test data\n",
    "    y_pred = rf_model.predict(X_test)\n",
    "\n",
    "    # compute metrics\n",
    "    rf_accuracy_scores.append(accuracy_score(y_test, y_pred))\n",
    "    rf_f1_scores.append(f1_score(y_test, y_pred))\n",
    "\n",
    "#for i in range(10):\n",
    "#    print(f\"Fold {i+1}; Accuracy: {accuracy_scores[i]}\")\n",
    "\n",
    "#print(f\"avg: {np.mean(accuracy_scores):.4f} std: {np.std(accuracy_scores):.4f}\")\n",
    "\n",
    "print(f\"Mean F1-Score: {np.mean(rf_f1_scores):.4f} +-{np.std(rf_f1_scores):.4f}\")\n",
    "print(f\"Mean Training Time: {np.mean(rf_training_times):.4f} +-{np.std(rf_training_times):.4f} s\")\n"
   ]
  },
  {
   "cell_type": "code",
   "execution_count": null,
   "metadata": {},
   "outputs": [
    {
     "name": "stdout",
     "output_type": "stream",
     "text": [
      " Fold  Random Forest\n",
      "    1       0.952278\n",
      "    2       0.956522\n",
      "    3       0.960870\n",
      "    4       0.967391\n",
      "    5       0.945652\n",
      "    6       0.958696\n",
      "    7       0.956522\n",
      "    8       0.956522\n",
      "    9       0.943478\n",
      "   10       0.952174\n",
      "  avg       0.955010\n",
      "stdev       0.006664\n"
     ]
    }
   ],
   "source": [
    "# print as the book\n",
    "\n",
    "results_cv_df = pd.DataFrame({\n",
    "    \"Fold\": [i+1 for i in range(10)],\n",
    "    \"Random Forest\": rf_accuracy_scores\n",
    "})\n",
    "\n",
    "results_cv_df = pd.concat([\n",
    "    results_cv_df,\n",
    "    pd.DataFrame({\"Fold\": [\"avg\", \"stdev\"], \"Random Forest\": [np.mean(rf_accuracy_scores), np.std(rf_accuracy_scores)]})\n",
    "], ignore_index=True)\n",
    "\n",
    "print(results_cv_df.to_string(index=False))"
   ]
  }
 ],
 "metadata": {
  "kernelspec": {
   "display_name": "MyEnv",
   "language": "python",
   "name": "python3"
  },
  "language_info": {
   "codemirror_mode": {
    "name": "ipython",
    "version": 3
   },
   "file_extension": ".py",
   "mimetype": "text/x-python",
   "name": "python",
   "nbconvert_exporter": "python",
   "pygments_lexer": "ipython3",
   "version": "3.12.6"
  }
 },
 "nbformat": 4,
 "nbformat_minor": 2
}
